{
 "cells": [
  {
   "cell_type": "code",
   "execution_count": 7,
   "metadata": {},
   "outputs": [],
   "source": [
    "import os\n",
    "import numpy as np\n",
    "import cv2\n",
    "import json"
   ]
  },
  {
   "cell_type": "code",
   "execution_count": 8,
   "metadata": {},
   "outputs": [],
   "source": [
    "# Create folder to save all data\n",
    "training_data_path = '/Users/am/Desktop/HKU/InnoWing/project/CNN/data/training-data'\n",
    "validation_data_path = '/Users/am/Desktop/HKU/InnoWing/project/CNN/data/validation-data'\n",
    "\n",
    "if not os.path.exists(f'{training_data_path}/img'):\n",
    "    os.makedirs(f'{training_data_path}/img')\n",
    "\n",
    "if not os.path.exists(f'{validation_data_path}/img'):\n",
    "    os.makedirs(f'{validation_data_path}/img')"
   ]
  },
  {
   "cell_type": "code",
   "execution_count": 9,
   "metadata": {},
   "outputs": [],
   "source": [
    "# Generate images for training\n",
    "def generate_images(data_size, folder_path, max_blobs=10):\n",
    "    # Create COCO format dictionary\n",
    "    annotations = { \"images\": [], \"annotations\": [], \"categories\": [{\"id\": 1, \"name\": \"human\"}] }\n",
    "\n",
    "    for i in range(data_size):\n",
    "        img = np.zeros((24, 32), dtype=np.float32)\n",
    "        num_of_human = np.random.randint(0, max_blobs+1)\n",
    "        \n",
    "        for _ in range(num_of_human):\n",
    "\n",
    "            # Randomly generate a blob\n",
    "            blob_size = np.random.randint(3, 7)\n",
    "            x1, y1 = np.random.randint(0, 32-blob_size), np.random.randint(0, 24-blob_size)\n",
    "            x2, y2 = x1+blob_size, y1+blob_size\n",
    "            img[y1:y2, x1:x2] = np.random.uniform(28, 35, (blob_size, blob_size))\n",
    "\n",
    "            # Bounding box\n",
    "            bbox = [x1, y1, blob_size, blob_size]   # x, y, w, h\n",
    "\n",
    "            # Mask\n",
    "            mask = np.zeros((24, 32), dtype=np.uint8)\n",
    "            mask[y1:y2, x1:x2] = 1\n",
    "\n",
    "            # Add annotation\n",
    "            annotations[\"annotations\"].append({\n",
    "                \"id\": len(annotations[\"annotations\"])+1,\n",
    "                \"image_id\": i+1,\n",
    "                \"category_id\": 1,\n",
    "                \"segmentation\": [mask.tolist()],\n",
    "                \"area\": blob_size*blob_size,\n",
    "                \"bbox\": bbox,\n",
    "                \"iscrowd\": 0,\n",
    "                \"ignore\": 0\n",
    "            })\n",
    "\n",
    "        # Add background temperature\n",
    "        background_temp = np.random.uniform(23, 28, (24, 32))\n",
    "        img[img == 0] = background_temp[img == 0]\n",
    "\n",
    "        # Add noise\n",
    "        img += np.random.normal(0, 0.4, (24, 32))\n",
    "\n",
    "        # Normalize image\n",
    "        img = (img - 23) / (35 - 23)\n",
    "        img_8u = (img * 255).astype(np.uint8)\n",
    "\n",
    "        # Save image (scaled to 255)\n",
    "        cv2.imwrite(f'{folder_path}/img/{i}.png'.format(i), img_8u)\n",
    "\n",
    "        # Add image to COCO format dictionary\n",
    "        annotations[\"images\"].append({\n",
    "            \"id\": i+1,\n",
    "            \"file_name\": f\"{i}.png\".format(i),\n",
    "            \"height\": 24,\n",
    "            \"width\": 32\n",
    "    })\n",
    "        \n",
    "    return annotations\n"
   ]
  },
  {
   "cell_type": "code",
   "execution_count": 10,
   "metadata": {},
   "outputs": [],
   "source": [
    "max_blobs = 10\n",
    "annotations_training_set = generate_images(500, training_data_path, max_blobs)\n",
    "\n",
    "# Save annotations to JSON file\n",
    "with open(f'{training_data_path}/annotations.json', 'w') as f:\n",
    "    json.dump(annotations_training_set, f)\n"
   ]
  },
  {
   "cell_type": "code",
   "execution_count": 11,
   "metadata": {},
   "outputs": [],
   "source": [
    "annotations_validation_set = generate_images(200, validation_data_path, max_blobs)\n",
    "\n",
    "# Save annotations to JSON file\n",
    "with open(f'{validation_data_path}/annotations.json', 'w') as f:\n",
    "    json.dump(annotations_validation_set, f)"
   ]
  }
 ],
 "metadata": {
  "kernelspec": {
   "display_name": "Python 3",
   "language": "python",
   "name": "python3"
  },
  "language_info": {
   "codemirror_mode": {
    "name": "ipython",
    "version": 3
   },
   "file_extension": ".py",
   "mimetype": "text/x-python",
   "name": "python",
   "nbconvert_exporter": "python",
   "pygments_lexer": "ipython3",
   "version": "3.11.9"
  }
 },
 "nbformat": 4,
 "nbformat_minor": 2
}
